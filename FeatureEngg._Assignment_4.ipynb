{
 "cells": [
  {
   "cell_type": "markdown",
   "id": "e7718895-d6a6-483e-a453-dd47427eea9d",
   "metadata": {},
   "source": [
    "### Problem_1: What is data encoding? How is it useful in data science?"
   ]
  },
  {
   "cell_type": "markdown",
   "id": "755c3a89-68d5-4969-ad47-8b642e67ffd2",
   "metadata": {},
   "source": [
    "- Data encoding in data science is all about transforming data, usually from a format humans understand to a format machines can use. Imagine it like translating a language - you need the computer to understand the data to analyze it effectively.\n",
    "\n",
    "- This is especially important because many machine learning algorithms only work with numbers. So, encoding turns things like text categories (like \"shirt size: S, M, L\") into numerical values (like S = 1, M = 2, L = 3) for the machine to process. This lets data scientists build models and uncover hidden patterns in the data."
   ]
  },
  {
   "cell_type": "markdown",
   "id": "5869bef2-48ad-406e-b313-316419569f07",
   "metadata": {},
   "source": [
    "### Problem_2: What is nominal encoding? Provide an example of how you would use it in a real-world scenario."
   ]
  },
  {
   "cell_type": "markdown",
   "id": "7adf14b0-944c-4f21-9f5a-2affd1d2495f",
   "metadata": {},
   "source": [
    "- Nominal encoding deals with categorical data that has no inherent order. Think of things like colors (red, blue, green) or shirt sizes (S, M, L). There's no ranking or order to these categories.\n",
    "\n",
    "- One common way to encode nominal data is one-hot encoding. Here, each category gets its own binary feature (0 or 1). For example, shirt size (S, M, L) could become three new features: S=1, M=0, L=0 (one S for the sample, zero for the others). This way, the machine learning model can understand the presence or absence of each category, without assuming any order between them."
   ]
  },
  {
   "cell_type": "markdown",
   "id": "7261aa3f-a178-4e5c-966d-3a7a1fae07a3",
   "metadata": {},
   "source": [
    "### Problem_3: In what situations is nominal encoding preferred over one-hot encoding? Provide a practical example."
   ]
  },
  {
   "cell_type": "markdown",
   "id": "49818f22-6188-4a2b-a8c2-33c30e0e5771",
   "metadata": {},
   "source": [
    "- Actually, there isn't really a situation where nominal encoding is preferred over one-hot encoding. Nominal encoding is a broad term that encompasses one-hot encoding as a specific technique.\n",
    "\n",
    "- One-hot encoding is the most common way to perform nominal encoding because it creates a clear and interpretable representation of the data for machine learning models. It avoids any misinterpretations of order between categories, which is crucial for nominal data."
   ]
  },
  {
   "cell_type": "markdown",
   "id": "b57a52b9-48a8-4c94-a56e-d527c6e6cef8",
   "metadata": {},
   "source": [
    "### Problem_4: Suppose you have a dataset containing categorical data with 5 unique values. Which encoding technique would you use to transform this data into a format suitable for machine learning algorithms? Explain why you made this choice."
   ]
  },
  {
   "cell_type": "markdown",
   "id": "6107b455-b65a-40d5-86b4-8fa4700cec2e",
   "metadata": {},
   "source": [
    "For this data with 5 unique categorical values, i would recommend using one-hot encoding. Here's why:\n",
    "\n",
    "- Suitable for Nominal Data: One-hot encoding excels with nominal data, where categories have no inherent order (like shirt sizes). With 5 unique values, it's safe to assume there's no order.\n",
    "- Efficient for Few Categories: With only 5 categories, one-hot encoding won't create an excessive number of new features compared to higher numbers of categories. This helps maintain efficiency.\n",
    "- Clear Interpretation: Each category gets its own binary feature, making it easy to understand how the model interprets the data (presence/absence of a category).\n",
    "\n",
    "One-hot encoding effectively addresses these points, making it a good choice for this scenario."
   ]
  },
  {
   "cell_type": "markdown",
   "id": "a4d1ce42-c118-47cb-81fa-e63851e39c11",
   "metadata": {},
   "source": [
    "### Problem_5: In a machine learning project, you have a dataset with 1000 rows and 5 columns. Two of the columns are categorical, and the remaining three columns are numerical. If you were to use nominal encoding to transform the categorical data, how many new columns would be created? Show your calculations."
   ]
  },
  {
   "cell_type": "markdown",
   "id": "d96a0455-f045-4d98-85f0-7f15fbc40f3b",
   "metadata": {},
   "source": [
    "Let's calculate the number of new columns created using nominal encoding (assuming one-hot encoding):\n",
    "\n",
    "1. Categorical Columns: We are given that there are two categorical columns.\n",
    "2. One-Hot Encoding: One-hot encoding creates n-1 new features for n categories (dummy variables). This avoids introducing an artificial order and ensures each category is distinct.\n",
    "\n",
    "For each categorical column:\n",
    "- New features per column = Total categories (n) - 1\n",
    "\n",
    "So, for two categorical columns:\n",
    "  - Total new features = (n-1) per column * Number of columns\n",
    "  - Total new features = (5 - 1) * 2\n",
    "  - Total new features = 4 * 2\n",
    "  \n",
    "Therefore, using nominal encoding (one-hot encoding) in this scenario would create 8 new columns (4 for each categorical column)."
   ]
  },
  {
   "cell_type": "markdown",
   "id": "4911e0a6-8da1-4d7a-af7e-68e1dc3791c6",
   "metadata": {},
   "source": [
    "### Problem_6: You are working with a dataset containing information about different types of animals, including their species, habitat, and diet. Which encoding technique would you use to transform the categorical data into a format suitable for machine learning algorithms? Justify your answer."
   ]
  },
  {
   "cell_type": "markdown",
   "id": "f3fbd574-151b-4aa0-9f64-7aa4e6b5fef4",
   "metadata": {},
   "source": [
    "One-hot encoding would be the most suitable technique for this dataset's categorical data (species, habitat, diet). Here's why:\n",
    "\n",
    "- Nominal Data: Species, habitat, and diet are all likely nominal data. There's no inherent order to different animal species, habitats (e.g., forest vs. desert isn't inherently better), or diets (herbivore vs. carnivore isn't ordered).\n",
    "- Clear Differentiation: One-hot encoding creates a separate binary feature for each category. This ensures the model treats each category distinctly, avoiding any misinterpretations of order.\n",
    "- Scalability: Even with a potentially large number of categories within each feature (many species, habitats, diets), one-hot encoding is generally manageable for this scenario.\n",
    "\n",
    "While other techniques like label encoding might be considered for binary features (e.g., is_carnivore: 0/1), one-hot encoding provides a more interpretable and robust approach for nominal data with potentially many categories."
   ]
  },
  {
   "cell_type": "markdown",
   "id": "e2c0eb78-13f4-4dfd-a2c7-1a7829f342ee",
   "metadata": {},
   "source": [
    "### Problem_7: You are working on a project that involves predicting customer churn for a telecommunications company. You have a dataset with 5 features, including the customer's gender, age, contract type, monthly charges, and tenure. Which encoding technique(s) would you use to transform the categorical data into numerical data? Provide a step-by-step explanation of how you would implement the encoding."
   ]
  },
  {
   "cell_type": "markdown",
   "id": "fcdb972e-cb70-4bef-88c1-02506f17b25d",
   "metadata": {},
   "source": [
    "1. Identify Categorical Features: In this case, \"gender\" and \"contract type\" are categorical data.\n",
    "\n",
    "2. Choose Encoding Technique:\n",
    "   - Gender: This has two categories (male/female). Here, we are using label encoding. It's simple and efficient for binary data. Assign a unique integer (e.g., 0 for male, 1 for female) to each category.\n",
    "   - Contract Type: This could have multiple categories (e.g., prepaid, monthly, annual). One-hot encoding is a good choice. It creates separate binary features for each contract type (e.g., \"is_prepaid\", \"is_monthly\", \"is_annual\"). This avoids assuming any order between contract types."
   ]
  }
 ],
 "metadata": {
  "kernelspec": {
   "display_name": "Python 3 (ipykernel)",
   "language": "python",
   "name": "python3"
  },
  "language_info": {
   "codemirror_mode": {
    "name": "ipython",
    "version": 3
   },
   "file_extension": ".py",
   "mimetype": "text/x-python",
   "name": "python",
   "nbconvert_exporter": "python",
   "pygments_lexer": "ipython3",
   "version": "3.10.8"
  }
 },
 "nbformat": 4,
 "nbformat_minor": 5
}
