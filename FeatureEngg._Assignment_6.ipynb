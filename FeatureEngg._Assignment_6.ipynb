{
 "cells": [
  {
   "cell_type": "markdown",
   "id": "20120ad6-9ae6-4e99-aaa0-20828633a718",
   "metadata": {},
   "source": [
    "### Problem_1: Pearson correlation coefficient is a measure of the linear relationship between two variables. Suppose you have collected data on the amount of time students spend studying for an exam and their final exam scores. Calculate the Pearson correlation coefficient between these two variables and interpret the result."
   ]
  },
  {
   "cell_type": "markdown",
   "id": "10de2259-a2cf-4835-a584-a9e31e0c3013",
   "metadata": {},
   "source": [
    "The Pearson correlation coefficient, denoted by r,  measures the strength and direction of the linear relationship between two variables. It ranges from -1 to 1.\n",
    "\n",
    "- A positive correlation (0 < r < 1) indicates that as the value of one variable increases, the value of the other variable tends to increase as well. In the case of study time and exam scores, a positive correlation would suggest that students who spend more time studying tend to score higher on the exam.\n",
    "- A negative correlation (-1 < r < 0) indicates that as the value of one variable increases, the value of the other variable tends to decrease. This wouldn't be the case for study time and exam scores.\n",
    "- A correlation of 0 indicates no linear relationship between the two variables.    \n",
    "\n",
    "The closer the value of r is to 1 or -1, the stronger the linear relationship."
   ]
  },
  {
   "cell_type": "markdown",
   "id": "b77e2968-cea0-4319-add4-70e8c01d6fd1",
   "metadata": {},
   "source": [
    "### Problem_2: Spearman's rank correlation is a measure of the monotonic relationship between two variables.Suppose you have collected data on the amount of sleep individuals get each night and their overall job satisfaction level on a scale of 1 to 10. Calculate the Spearman's rank correlation between these two variables and interpret the result."
   ]
  },
  {
   "cell_type": "code",
   "execution_count": 1,
   "id": "9e43449e-b0a1-4460-bb21-80d7d63b27bb",
   "metadata": {},
   "outputs": [
    {
     "name": "stdout",
     "output_type": "stream",
     "text": [
      "0.9579831932773111\n"
     ]
    }
   ],
   "source": [
    "import pandas as pd\n",
    "\n",
    "# Create a sample dataset\n",
    "data = {'sleep_time': [7, 8, 6, 9, 5, 8, 7.5, 6.5, 10],\n",
    "        'job_satisfaction': [7, 8.5, 6, 10, 5, 8, 7, 5.5, 9]}\n",
    "\n",
    "df = pd.DataFrame(data)\n",
    "\n",
    "# Calculate Spearman's rank correlation coefficient\n",
    "correlation = df['sleep_time'].corr(df['job_satisfaction'], method='spearman')\n",
    "\n",
    "# Print the correlation coefficient\n",
    "print(correlation)"
   ]
  },
  {
   "cell_type": "markdown",
   "id": "e499ae04-e0f8-433a-97a9-d2509595f99e",
   "metadata": {},
   "source": [
    "### Interpretation:\n",
    "- A positive Spearman's rank correlation coefficient (close to 1) indicates a positive monotonic relationship, where more sleep is associated with higher job satisfaction. \n",
    "- A negative coefficient (close to -1) indicates a negative monotonic relationship. \n",
    "- In this case, the correlation is positive (0.958) suggesting a strong positive monotonic relationship between sleep time and job satisfaction. \n",
    "- However, it's important to note that Spearman's rank correlation only measures the direction and strength of the monotonic relationship, not necessarily a linear relationship."
   ]
  },
  {
   "cell_type": "markdown",
   "id": "98bb3397-e456-48d0-a200-ba6349d84f05",
   "metadata": {},
   "source": [
    "### Problem_3: Suppose you are conducting a study to examine the relationship between the number of hours of exercise per week and body mass index (BMI) in a sample of adults. You collected data on both variables for 50 participants. Calculate the Pearson correlation coefficient and the Spearman's rank correlation between these two variables and compare the results."
   ]
  },
  {
   "cell_type": "code",
   "execution_count": 2,
   "id": "86ba9502-1ab4-4919-b110-da06723265ce",
   "metadata": {},
   "outputs": [
    {
     "name": "stdout",
     "output_type": "stream",
     "text": [
      "Pearson correlation coefficient: -0.9585144756340407\n",
      "Spearman's rank correlation coefficient: -0.9500000000000001\n"
     ]
    }
   ],
   "source": [
    "import pandas as pd\n",
    "\n",
    "# Create sample data\n",
    "data = {'exercise_hours': [3, 5, 1, 4, 2, 7, 0, 6, 8],\n",
    "        'BMI': [25, 22, 28, 23, 27, 20, 30, 24, 19]}\n",
    "\n",
    "df = pd.DataFrame(data)\n",
    "\n",
    "# Calculate Pearson correlation coefficient\n",
    "pearson_correlation = df['exercise_hours'].corr(df['BMI'], method='pearson')\n",
    "\n",
    "# Calculate Spearman's rank correlation coefficient\n",
    "spearman_correlation = df['exercise_hours'].corr(df['BMI'], method='spearman')\n",
    "\n",
    "# Print the correlation coefficients\n",
    "print(\"Pearson correlation coefficient:\", pearson_correlation)\n",
    "print(\"Spearman's rank correlation coefficient:\", spearman_correlation)\n"
   ]
  },
  {
   "cell_type": "markdown",
   "id": "6addee8e-3447-4339-b153-ab7e596d465b",
   "metadata": {},
   "source": [
    "### Interpretation:\n",
    "- Both coefficients are very close to -1, indicating a strong negative correlation between exercise hours and BMI. This means that as the number of hours of exercise per week increases, BMI tends to decrease.\n",
    "- The high value (close to absolute value of 1) suggests a strong relationship.\n",
    "- The Pearson correlation coefficient is slightly higher than the Spearman's rank correlation coefficient, but the difference is minimal. This suggests that the relationship between exercise hours and BMI is close to linear.\n",
    "\n",
    "In conclusion, both correlation coefficients show a strong negative and likely close to linear relationship between exercise hours and BMI in this sample."
   ]
  },
  {
   "cell_type": "markdown",
   "id": "24f3544b-ef4e-42ae-a18c-17cbfff12592",
   "metadata": {},
   "source": [
    "### Problem_4: A researcher is interested in examining the relationship between the number of hours individuals spend watching television per day and their level of physical activity. The researcher collected data on both variables from a sample of 50 participants. Calculate the Pearson correlation coefficient between these two variables."
   ]
  },
  {
   "cell_type": "code",
   "execution_count": 3,
   "id": "b300d842-7875-47bb-a719-4c751f8a8720",
   "metadata": {},
   "outputs": [
    {
     "name": "stdout",
     "output_type": "stream",
     "text": [
      "Pearson correlation coefficient: -0.7940799724718948\n"
     ]
    }
   ],
   "source": [
    "import pandas as pd\n",
    "\n",
    "# Create sample data\n",
    "data = {'TV_hours': [3, 5, 1, 4, 2, 7, 0, 6, 8],\n",
    "        'physical_activity': [2, 1, 4, 3, 2.5, 1, 5, 3.5, 0]}\n",
    "\n",
    "df = pd.DataFrame(data)\n",
    "\n",
    "# Calculate Pearson correlation coefficient\n",
    "pearson_correlation = df['TV_hours'].corr(df['physical_activity'], method='pearson')\n",
    "\n",
    "# Print the correlation coefficient\n",
    "print(\"Pearson correlation coefficient:\", pearson_correlation)"
   ]
  },
  {
   "cell_type": "markdown",
   "id": "800e85b4-fc24-4327-b471-c20c13db2376",
   "metadata": {},
   "source": [
    "- The Pearson correlation coefficient between TV hours and physical activity is -0.794, which indicates a negative relationship. In other words, as the number of hours spent watching television increases, the level of physical activity tends to decrease.  The strength of the correlation is moderate, so we can't say for certain that watching more television causes people to be less physically active. There could be other factors at play."
   ]
  },
  {
   "cell_type": "markdown",
   "id": "c3f58b70-e0e2-4b78-8205-4b06474f08b8",
   "metadata": {},
   "source": [
    "### Problem_5: A survey was conducted to examine the relationship between age and preference for a particular brand of soft drink. The survey results are shown below:"
   ]
  },
  {
   "cell_type": "code",
   "execution_count": 4,
   "id": "56772474-115d-462e-92be-a4613039f7c3",
   "metadata": {},
   "outputs": [
    {
     "data": {
      "text/html": [
       "<div>\n",
       "<style scoped>\n",
       "    .dataframe tbody tr th:only-of-type {\n",
       "        vertical-align: middle;\n",
       "    }\n",
       "\n",
       "    .dataframe tbody tr th {\n",
       "        vertical-align: top;\n",
       "    }\n",
       "\n",
       "    .dataframe thead th {\n",
       "        text-align: right;\n",
       "    }\n",
       "</style>\n",
       "<table border=\"1\" class=\"dataframe\">\n",
       "  <thead>\n",
       "    <tr style=\"text-align: right;\">\n",
       "      <th></th>\n",
       "      <th>Age(Years)</th>\n",
       "      <th>Soft drink Preference</th>\n",
       "    </tr>\n",
       "  </thead>\n",
       "  <tbody>\n",
       "    <tr>\n",
       "      <th>0</th>\n",
       "      <td>25</td>\n",
       "      <td>Coke</td>\n",
       "    </tr>\n",
       "    <tr>\n",
       "      <th>1</th>\n",
       "      <td>42</td>\n",
       "      <td>Pepsi</td>\n",
       "    </tr>\n",
       "    <tr>\n",
       "      <th>2</th>\n",
       "      <td>37</td>\n",
       "      <td>Mountain dew</td>\n",
       "    </tr>\n",
       "    <tr>\n",
       "      <th>3</th>\n",
       "      <td>19</td>\n",
       "      <td>Coke</td>\n",
       "    </tr>\n",
       "    <tr>\n",
       "      <th>4</th>\n",
       "      <td>31</td>\n",
       "      <td>Pepsi</td>\n",
       "    </tr>\n",
       "    <tr>\n",
       "      <th>5</th>\n",
       "      <td>28</td>\n",
       "      <td>Coke</td>\n",
       "    </tr>\n",
       "  </tbody>\n",
       "</table>\n",
       "</div>"
      ],
      "text/plain": [
       "   Age(Years) Soft drink Preference\n",
       "0          25                  Coke\n",
       "1          42                 Pepsi\n",
       "2          37          Mountain dew\n",
       "3          19                  Coke\n",
       "4          31                 Pepsi\n",
       "5          28                  Coke"
      ]
     },
     "execution_count": 4,
     "metadata": {},
     "output_type": "execute_result"
    }
   ],
   "source": [
    "import pandas as pd\n",
    "## Survey results:\n",
    "data={\n",
    "    'Age(Years)':[25,42,37,19,31,28],\n",
    "    'Soft drink Preference':['Coke','Pepsi','Mountain dew','Coke','Pepsi','Coke']\n",
    "}\n",
    "df=pd.DataFrame(data)\n",
    "df"
   ]
  },
  {
   "cell_type": "code",
   "execution_count": 6,
   "id": "5426f3b2-08de-406f-9f35-e4c35fabc49d",
   "metadata": {},
   "outputs": [
    {
     "name": "stdout",
     "output_type": "stream",
     "text": [
      "Crosstabulation:\n",
      "Soft drink Preference  Coke  Mountain dew  Pepsi\n",
      "Age(Years)                                      \n",
      "19                        1             0      0\n",
      "25                        1             0      0\n",
      "28                        1             0      0\n",
      "31                        0             0      1\n",
      "37                        0             1      0\n",
      "42                        0             0      1\n"
     ]
    }
   ],
   "source": [
    "import pandas as pd\n",
    "\n",
    "# Create the dataframe\n",
    "data = {\n",
    "    'Age(Years)': [25, 42, 37, 19, 31, 28],\n",
    "    'Soft drink Preference': ['Coke', 'Pepsi', 'Mountain dew', 'Coke', 'Pepsi', 'Coke']\n",
    "}\n",
    "\n",
    "df = pd.DataFrame(data)\n",
    "# We can explore the relationship between age and drink preference using crosstabulation\n",
    "print(\"Crosstabulation:\")\n",
    "print(pd.crosstab(df['Age(Years)'], df['Soft drink Preference']))"
   ]
  },
  {
   "cell_type": "markdown",
   "id": "9fbaa131-9db9-4092-a760-979c18021e19",
   "metadata": {},
   "source": [
    "### Problem_6: A company is interested in examining the relationship between the number of sales calls made per day and the number of sales made per week. The company collected data on both variables from a sample of 30 sales representatives. Calculate the Pearson correlation coefficient between these two variables."
   ]
  },
  {
   "cell_type": "code",
   "execution_count": 8,
   "id": "9a4510c8-59e9-47af-8b5f-fd06a44f581f",
   "metadata": {},
   "outputs": [
    {
     "name": "stdout",
     "output_type": "stream",
     "text": [
      "Pearson correlation coefficient: 0.9898221351686111\n"
     ]
    }
   ],
   "source": [
    "import pandas as pd\n",
    "\n",
    "# Sample data (Example)\n",
    "data = {\n",
    "    'Sales Calls': [50, 72, 45, 68, 38, 90, 62, 40, 85],\n",
    "    'Sales Made': [8, 12, 7, 10, 5, 15, 9, 6, 14]\n",
    "}\n",
    "\n",
    "df = pd.DataFrame(data)\n",
    "\n",
    "# Calculate Pearson correlation coefficient\n",
    "correlation = df['Sales Calls'].corr(df['Sales Made'], method='pearson')\n",
    "\n",
    "# Print the correlation coefficient\n",
    "print(\"Pearson correlation coefficient:\", correlation)"
   ]
  },
  {
   "cell_type": "markdown",
   "id": "ed38fd79-1f86-47ca-8cec-b2ef7a33250b",
   "metadata": {},
   "source": [
    "### Interpretation:\n",
    "- A positive correlation (closer to 1) indicates more sales calls are associated with more sales made per week.\n",
    "- Our Correlation os 0.98 . It indicates more sales call are associated with more sales made per week."
   ]
  }
 ],
 "metadata": {
  "kernelspec": {
   "display_name": "Python 3 (ipykernel)",
   "language": "python",
   "name": "python3"
  },
  "language_info": {
   "codemirror_mode": {
    "name": "ipython",
    "version": 3
   },
   "file_extension": ".py",
   "mimetype": "text/x-python",
   "name": "python",
   "nbconvert_exporter": "python",
   "pygments_lexer": "ipython3",
   "version": "3.10.8"
  }
 },
 "nbformat": 4,
 "nbformat_minor": 5
}
